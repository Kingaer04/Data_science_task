{
 "cells": [
  {
   "cell_type": "markdown",
   "id": "ac9e842f",
   "metadata": {},
   "source": [
    "#### Import the necessary libraries"
   ]
  },
  {
   "cell_type": "code",
   "execution_count": 1,
   "id": "5e734892",
   "metadata": {},
   "outputs": [],
   "source": [
    "import csv\n",
    "from collections import Counter\n",
    "import numpy as np"
   ]
  },
  {
   "cell_type": "markdown",
   "id": "911dee8d",
   "metadata": {},
   "source": [
    "#### Reading the file and calculating the  mean value"
   ]
  },
  {
   "cell_type": "code",
   "execution_count": 2,
   "id": "f8214da0",
   "metadata": {},
   "outputs": [],
   "source": [
    "with open('newsurvey.csv', 'r') as file:\n",
    "    count = Counter()\n",
    "    read = csv.DictReader(file)\n",
    "    for i in read:\n",
    "        count.update(i['COLOURS'].split(','))\n",
    "sorted_colors = sorted(count.items(), key=lambda x:x[1] )\n",
    "dic = {k : v for k, v in sorted_colors}\n",
    "mean = np.mean(list(dic.values()))"
   ]
  },
  {
   "cell_type": "markdown",
   "id": "0489cda2",
   "metadata": {},
   "source": [
    "#### Calculating the cummulative frequency"
   ]
  },
  {
   "cell_type": "code",
   "execution_count": 3,
   "id": "8a1931cd",
   "metadata": {},
   "outputs": [
    {
     "data": {
      "text/plain": [
       "{'ARSH': 1,\n",
       " 'BLEW': 2,\n",
       " 'BLACK': 3,\n",
       " 'CREAM': 5,\n",
       " 'YELLOW': 10,\n",
       " 'PINK': 15,\n",
       " 'BROWN': 21,\n",
       " 'ORANGE': 30,\n",
       " 'RED': 39,\n",
       " 'GREEN': 49,\n",
       " 'WHITE': 65,\n",
       " 'BLUE': 95}"
      ]
     },
     "execution_count": 3,
     "metadata": {},
     "output_type": "execute_result"
    }
   ],
   "source": [
    "value = list(dic.values())\n",
    "cummu = np.cumsum(value)\n",
    "cummulative = {key:value for key,value in zip(dic.keys(),cummu)}\n",
    "cummulative"
   ]
  },
  {
   "cell_type": "markdown",
   "id": "3c1275de",
   "metadata": {},
   "source": [
    "#### Calculating the cumulative mean and meadian"
   ]
  },
  {
   "cell_type": "code",
   "execution_count": 4,
   "id": "40067204",
   "metadata": {},
   "outputs": [],
   "source": [
    "half_values = sum(dic.values())//2\n",
    "\n",
    "def find_colour(n):\n",
    "    for color,value in cummulative.items():\n",
    "        if value >= n:\n",
    "            return color\n",
    "median = find_colour(half_values)    \n",
    "mean = find_colour(mean)\n",
    "mode = max(dic, key=dic.get)"
   ]
  },
  {
   "cell_type": "markdown",
   "id": "4cb1ba1e",
   "metadata": {},
   "source": [
    "#### The result"
   ]
  },
  {
   "cell_type": "code",
   "execution_count": 5,
   "id": "e1e160d2",
   "metadata": {},
   "outputs": [
    {
     "name": "stdout",
     "output_type": "stream",
     "text": [
      "The mean color = YELLOW\n",
      "The median color = GREEN\n",
      "The mode color = BLUE\n"
     ]
    }
   ],
   "source": [
    "print(f'The mean color = {mean}')\n",
    "print(f'The median color = {median}')\n",
    "print(f'The mode color = {mode}')"
   ]
  },
  {
   "cell_type": "code",
   "execution_count": null,
   "id": "278424aa",
   "metadata": {},
   "outputs": [],
   "source": []
  }
 ],
 "metadata": {
  "kernelspec": {
   "display_name": "Python 3 (ipykernel)",
   "language": "python",
   "name": "python3"
  },
  "language_info": {
   "codemirror_mode": {
    "name": "ipython",
    "version": 3
   },
   "file_extension": ".py",
   "mimetype": "text/x-python",
   "name": "python",
   "nbconvert_exporter": "python",
   "pygments_lexer": "ipython3",
   "version": "3.9.12"
  }
 },
 "nbformat": 4,
 "nbformat_minor": 5
}
